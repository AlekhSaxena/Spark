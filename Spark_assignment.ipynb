{
 "cells": [
  {
   "cell_type": "markdown",
   "metadata": {},
   "source": [
    "# Steps for Initial Setup -\n",
    "1. Chose Pyspark kernel in Jupyter Notebook.\n",
    "2. Verify if SparkContext is available\n",
    "3. Load the dataset in HDFS or check the path of pre-loaded data in HDFS which is /gldata/Churn.csv and /gldata/Churntest.csv \n",
    "   If you want to check the data, access it through Hue- HDFS browser.\n",
    "4. Learn how to work with Spark Dataframe, Pandas Dataframe and Spark ML Pipeline."
   ]
  },
  {
   "cell_type": "markdown",
   "metadata": {},
   "source": [
    "# Steps for Project"
   ]
  },
  {
   "cell_type": "markdown",
   "metadata": {},
   "source": [
    "1. Create and Check Spark Context for Pyspark shell.\n",
    "2. Load necessary libraries\n",
    "3. Check the informtion provided about data.\n",
    "4. Import the data files provided from HDFS (Churn.csv and Churntest.csv).\n",
    "5. Display the data in Spark Dataframe. ( Note:: In pyspark, dataframe index the rows from 0 instead of 1)\n",
    "6. Do data pre-processing required.( Hint - We have some variables which should be of categorical datatype but they are of type integer. Convert them)\n",
    "7. Do exploratory data analysis.\n",
    "            7.1 - Describe the data using describe function and state your insights.\n",
    "            7.2 - Create Histogram for Day minutes spent by customers for churn=0 and 1 values.\n",
    "            7.3 - Create count plots for Number of customers opt voicemail plan with Churn values.\n",
    "            7.4 - Create count plots for International Plan opt by customer with Churn values.\n",
    "            7.5 - Plot Areawise churner and non-churner.\n",
    "            7.6 - Get correlation matrix using corr() function.\n",
    "8. Get correlation between Predicting Variable and independent variable and state your insights.\n",
    "    (Now that we want to predict which customer is going to churn, let’s see what columns might be         interesting for our prediction.One way is to find the correlation between \"Churn\" and each of         the other columns.This will show us which other columns might predict \"Churn\" the best.)\n",
    "9. Applying Machine Learning Model\n",
    "            9.1 - Import necessary libraries\n",
    "            9.2 - Create vectors of all indepandant variables (Hint - use VectorAssembler)\n",
    "            9.3 - Apply Decision Tree Classifier using dependent and independent variables.\n",
    "            9.4 - Create pipeline to build the classifier.\n",
    "            9.5 - Use startified sampling to get a sample of data.\n",
    "            9.6 - Split the data into train and test dataset.\n",
    "            9.7 - Make predictions and validate your model by calculating accuracy score.\n",
    "            9.8 - Calculate recall and precision score.\n",
    "            9.9 - Test the model using test data and calculate accuracy, recall and precision.\n",
    "            9.10- Repeat steps from 9.3 to 9.9 for Random-forest and Gradient-Boost Classifiers.\n",
    "10. State your insights and conclusions from the above analysis.\n",
    "            "
   ]
  },
  {
   "cell_type": "markdown",
   "metadata": {},
   "source": [
    "# About the Data"
   ]
  },
  {
   "cell_type": "markdown",
   "metadata": {},
   "source": [
    "The dataset is about telecom industry which tells about the number of customers who churned the service. It consists of 3333 observations having 21 variables. We have to predict which customer is going to churn the service.\n",
    "\n",
    "Account.Length: how long account has been active.\n",
    "\n",
    "VMail.Message: Number of voice mail messages send by the customer.\n",
    "\n",
    "Day.Mins: Time spent on day calls.\n",
    "\n",
    "Eve.Mins: Time spent on evening calls.\n",
    "\n",
    "Night.Mins: Time spent on night calls.\n",
    "\n",
    "Intl. Mins: Time spent on international calls.\n",
    "\n",
    "Day.Calls: Number of day calls by customers.\n",
    "\n",
    "Eve.Calls: Number of evening calls by customers.\n",
    "\n",
    "Intl.Calls: Number of international calls.\n",
    "\n",
    "Night.Calls: Number of night calls by customer.\n",
    "\n",
    "Day.Charge: Charges of Day Calls.\n",
    "\n",
    "Night.Charge: Charges of Night Calls.\n",
    "\n",
    "Eve.Charge: Charges of evening Calls.\n",
    "\n",
    "Intl.Charge: Charges of international calls.\n",
    "\n",
    "VMail.Plan: Voice mail plan taken by the customer or not.\n",
    "\n",
    "State: State in Area of study.\n",
    "\n",
    "Phone: Phone number of the customer.\n",
    "\n",
    "Area.Code: Area Code of customer.\n",
    "\n",
    "Int.l.Plan: Does customer have international plan or not.\n",
    "\n",
    "CustServ.Calls: Number of customer service calls by customer.\n",
    "\n",
    "Churn : Customers who churned the telecom service or who doesn’t(0=“Churner”, 1=“Non-Churner”)"
   ]
  },
  {
   "cell_type": "markdown",
   "metadata": {},
   "source": [
    "# Get started "
   ]
  },
  {
   "cell_type": "markdown",
   "metadata": {},
   "source": [
    "The project can be deivided into 4 blocks. We have added sample solution till step 8 of project. \n",
    "\n",
    "You need to proceed for step 8 and 9 to complete this project."
   ]
  },
  {
   "cell_type": "markdown",
   "metadata": {},
   "source": [
    "# Loading the Data and Pre-Processing"
   ]
  },
  {
   "cell_type": "markdown",
   "metadata": {},
   "source": [
    "Follow steps for Project - 1 to 6. "
   ]
  },
  {
   "cell_type": "code",
   "execution_count": 3,
   "metadata": {},
   "outputs": [
    {
     "data": {
      "text/plain": [
       "''"
      ]
     },
     "execution_count": 3,
     "metadata": {},
     "output_type": "execute_result"
    }
   ],
   "source": [
    "sc"
   ]
  },
  {
   "cell_type": "markdown",
   "metadata": {},
   "source": [
    "#### Loading Libraries"
   ]
  },
  {
   "cell_type": "code",
   "execution_count": 3,
   "metadata": {},
   "outputs": [],
   "source": [
    "##We have to load libraries before we start our analysis. \n",
    "\n",
    "from pyspark.sql import SparkSession"
   ]
  },
  {
   "cell_type": "code",
   "execution_count": 4,
   "metadata": {},
   "outputs": [],
   "source": [
    "spark=SparkSession.builder.appName('churn').getOrCreate()"
   ]
  },
  {
   "cell_type": "code",
   "execution_count": 5,
   "metadata": {},
   "outputs": [
    {
     "data": {
      "text/html": [
       "\n",
       "            <div>\n",
       "                <p><b>SparkSession - in-memory</b></p>\n",
       "                \n",
       "        <div>\n",
       "            <p><b>SparkContext</b></p>\n",
       "\n",
       "            <p><a href=\"http://192.168.29.205:4040\">Spark UI</a></p>\n",
       "\n",
       "            <dl>\n",
       "              <dt>Version</dt>\n",
       "                <dd><code>v3.1.2</code></dd>\n",
       "              <dt>Master</dt>\n",
       "                <dd><code>local[*]</code></dd>\n",
       "              <dt>AppName</dt>\n",
       "                <dd><code>churn</code></dd>\n",
       "            </dl>\n",
       "        </div>\n",
       "        \n",
       "            </div>\n",
       "        "
      ],
      "text/plain": [
       "<pyspark.sql.session.SparkSession at 0x7f90039839d0>"
      ]
     },
     "execution_count": 5,
     "metadata": {},
     "output_type": "execute_result"
    }
   ],
   "source": [
    "spark"
   ]
  },
  {
   "cell_type": "markdown",
   "metadata": {},
   "source": [
    "### Import the Data\n",
    "\n",
    "We have two data files in which training file contains 3333 observations with 21 variables and testing file contains  667 observations. "
   ]
  },
  {
   "cell_type": "code",
   "execution_count": 151,
   "metadata": {},
   "outputs": [],
   "source": [
    "ch = spark.read.csv(\"Churn.csv\",header=True,inferSchema=True)"
   ]
  },
  {
   "cell_type": "markdown",
   "metadata": {},
   "source": [
    "### Display the dataframe\n",
    "### Note:: In pyspark, dataframe index the rows from 0 instead of 1.   \n",
    "\n",
    " "
   ]
  },
  {
   "cell_type": "code",
   "execution_count": 152,
   "metadata": {
    "scrolled": true
   },
   "outputs": [
    {
     "data": {
      "text/html": [
       "<div>\n",
       "<style scoped>\n",
       "    .dataframe tbody tr th:only-of-type {\n",
       "        vertical-align: middle;\n",
       "    }\n",
       "\n",
       "    .dataframe tbody tr th {\n",
       "        vertical-align: top;\n",
       "    }\n",
       "\n",
       "    .dataframe thead th {\n",
       "        text-align: right;\n",
       "    }\n",
       "</style>\n",
       "<table border=\"1\" class=\"dataframe\">\n",
       "  <thead>\n",
       "    <tr style=\"text-align: right;\">\n",
       "      <th></th>\n",
       "      <th>AccountLength</th>\n",
       "      <th>VMailMessage</th>\n",
       "      <th>DayMins</th>\n",
       "      <th>EveMins</th>\n",
       "      <th>NightMins</th>\n",
       "      <th>IntlMins</th>\n",
       "      <th>CustServCalls</th>\n",
       "      <th>Churn</th>\n",
       "      <th>IntlPlan</th>\n",
       "      <th>VMailPlan</th>\n",
       "      <th>...</th>\n",
       "      <th>DayCharge</th>\n",
       "      <th>EveCalls</th>\n",
       "      <th>EveCharge</th>\n",
       "      <th>NightCalls</th>\n",
       "      <th>NightCharge</th>\n",
       "      <th>IntlCalls</th>\n",
       "      <th>IntlCharge</th>\n",
       "      <th>State</th>\n",
       "      <th>AreaCode</th>\n",
       "      <th>Phone</th>\n",
       "    </tr>\n",
       "  </thead>\n",
       "  <tbody>\n",
       "    <tr>\n",
       "      <th>0</th>\n",
       "      <td>128</td>\n",
       "      <td>25</td>\n",
       "      <td>265.1</td>\n",
       "      <td>197.4</td>\n",
       "      <td>244.7</td>\n",
       "      <td>10.0</td>\n",
       "      <td>1</td>\n",
       "      <td>0</td>\n",
       "      <td>0</td>\n",
       "      <td>1</td>\n",
       "      <td>...</td>\n",
       "      <td>45.07</td>\n",
       "      <td>99</td>\n",
       "      <td>16.78</td>\n",
       "      <td>91</td>\n",
       "      <td>11.01</td>\n",
       "      <td>3</td>\n",
       "      <td>2.70</td>\n",
       "      <td>KS</td>\n",
       "      <td>415</td>\n",
       "      <td>382-4657</td>\n",
       "    </tr>\n",
       "    <tr>\n",
       "      <th>1</th>\n",
       "      <td>107</td>\n",
       "      <td>26</td>\n",
       "      <td>161.6</td>\n",
       "      <td>195.5</td>\n",
       "      <td>254.4</td>\n",
       "      <td>13.7</td>\n",
       "      <td>1</td>\n",
       "      <td>0</td>\n",
       "      <td>0</td>\n",
       "      <td>1</td>\n",
       "      <td>...</td>\n",
       "      <td>27.47</td>\n",
       "      <td>103</td>\n",
       "      <td>16.62</td>\n",
       "      <td>103</td>\n",
       "      <td>11.45</td>\n",
       "      <td>3</td>\n",
       "      <td>3.70</td>\n",
       "      <td>OH</td>\n",
       "      <td>415</td>\n",
       "      <td>371-7191</td>\n",
       "    </tr>\n",
       "    <tr>\n",
       "      <th>2</th>\n",
       "      <td>137</td>\n",
       "      <td>0</td>\n",
       "      <td>243.4</td>\n",
       "      <td>121.2</td>\n",
       "      <td>162.6</td>\n",
       "      <td>12.2</td>\n",
       "      <td>0</td>\n",
       "      <td>0</td>\n",
       "      <td>0</td>\n",
       "      <td>0</td>\n",
       "      <td>...</td>\n",
       "      <td>41.38</td>\n",
       "      <td>110</td>\n",
       "      <td>10.30</td>\n",
       "      <td>104</td>\n",
       "      <td>7.32</td>\n",
       "      <td>5</td>\n",
       "      <td>3.29</td>\n",
       "      <td>NJ</td>\n",
       "      <td>415</td>\n",
       "      <td>358-1921</td>\n",
       "    </tr>\n",
       "    <tr>\n",
       "      <th>3</th>\n",
       "      <td>84</td>\n",
       "      <td>0</td>\n",
       "      <td>299.4</td>\n",
       "      <td>61.9</td>\n",
       "      <td>196.9</td>\n",
       "      <td>6.6</td>\n",
       "      <td>2</td>\n",
       "      <td>0</td>\n",
       "      <td>1</td>\n",
       "      <td>0</td>\n",
       "      <td>...</td>\n",
       "      <td>50.90</td>\n",
       "      <td>88</td>\n",
       "      <td>5.26</td>\n",
       "      <td>89</td>\n",
       "      <td>8.86</td>\n",
       "      <td>7</td>\n",
       "      <td>1.78</td>\n",
       "      <td>OH</td>\n",
       "      <td>408</td>\n",
       "      <td>375-9999</td>\n",
       "    </tr>\n",
       "    <tr>\n",
       "      <th>4</th>\n",
       "      <td>75</td>\n",
       "      <td>0</td>\n",
       "      <td>166.7</td>\n",
       "      <td>148.3</td>\n",
       "      <td>186.9</td>\n",
       "      <td>10.1</td>\n",
       "      <td>3</td>\n",
       "      <td>0</td>\n",
       "      <td>1</td>\n",
       "      <td>0</td>\n",
       "      <td>...</td>\n",
       "      <td>28.34</td>\n",
       "      <td>122</td>\n",
       "      <td>12.61</td>\n",
       "      <td>121</td>\n",
       "      <td>8.41</td>\n",
       "      <td>3</td>\n",
       "      <td>2.73</td>\n",
       "      <td>OK</td>\n",
       "      <td>415</td>\n",
       "      <td>330-6626</td>\n",
       "    </tr>\n",
       "    <tr>\n",
       "      <th>...</th>\n",
       "      <td>...</td>\n",
       "      <td>...</td>\n",
       "      <td>...</td>\n",
       "      <td>...</td>\n",
       "      <td>...</td>\n",
       "      <td>...</td>\n",
       "      <td>...</td>\n",
       "      <td>...</td>\n",
       "      <td>...</td>\n",
       "      <td>...</td>\n",
       "      <td>...</td>\n",
       "      <td>...</td>\n",
       "      <td>...</td>\n",
       "      <td>...</td>\n",
       "      <td>...</td>\n",
       "      <td>...</td>\n",
       "      <td>...</td>\n",
       "      <td>...</td>\n",
       "      <td>...</td>\n",
       "      <td>...</td>\n",
       "      <td>...</td>\n",
       "    </tr>\n",
       "    <tr>\n",
       "      <th>3328</th>\n",
       "      <td>192</td>\n",
       "      <td>36</td>\n",
       "      <td>156.2</td>\n",
       "      <td>215.5</td>\n",
       "      <td>279.1</td>\n",
       "      <td>9.9</td>\n",
       "      <td>2</td>\n",
       "      <td>0</td>\n",
       "      <td>0</td>\n",
       "      <td>1</td>\n",
       "      <td>...</td>\n",
       "      <td>26.55</td>\n",
       "      <td>126</td>\n",
       "      <td>18.32</td>\n",
       "      <td>83</td>\n",
       "      <td>12.56</td>\n",
       "      <td>6</td>\n",
       "      <td>2.67</td>\n",
       "      <td>AZ</td>\n",
       "      <td>415</td>\n",
       "      <td>414-4276</td>\n",
       "    </tr>\n",
       "    <tr>\n",
       "      <th>3329</th>\n",
       "      <td>68</td>\n",
       "      <td>0</td>\n",
       "      <td>231.1</td>\n",
       "      <td>153.4</td>\n",
       "      <td>191.3</td>\n",
       "      <td>9.6</td>\n",
       "      <td>3</td>\n",
       "      <td>0</td>\n",
       "      <td>0</td>\n",
       "      <td>0</td>\n",
       "      <td>...</td>\n",
       "      <td>39.29</td>\n",
       "      <td>55</td>\n",
       "      <td>13.04</td>\n",
       "      <td>123</td>\n",
       "      <td>8.61</td>\n",
       "      <td>4</td>\n",
       "      <td>2.59</td>\n",
       "      <td>WV</td>\n",
       "      <td>415</td>\n",
       "      <td>370-3271</td>\n",
       "    </tr>\n",
       "    <tr>\n",
       "      <th>3330</th>\n",
       "      <td>28</td>\n",
       "      <td>0</td>\n",
       "      <td>180.8</td>\n",
       "      <td>288.8</td>\n",
       "      <td>191.9</td>\n",
       "      <td>14.1</td>\n",
       "      <td>2</td>\n",
       "      <td>0</td>\n",
       "      <td>0</td>\n",
       "      <td>0</td>\n",
       "      <td>...</td>\n",
       "      <td>30.74</td>\n",
       "      <td>58</td>\n",
       "      <td>24.55</td>\n",
       "      <td>91</td>\n",
       "      <td>8.64</td>\n",
       "      <td>6</td>\n",
       "      <td>3.81</td>\n",
       "      <td>RI</td>\n",
       "      <td>510</td>\n",
       "      <td>328-8230</td>\n",
       "    </tr>\n",
       "    <tr>\n",
       "      <th>3331</th>\n",
       "      <td>184</td>\n",
       "      <td>0</td>\n",
       "      <td>213.8</td>\n",
       "      <td>159.6</td>\n",
       "      <td>139.2</td>\n",
       "      <td>5.0</td>\n",
       "      <td>2</td>\n",
       "      <td>0</td>\n",
       "      <td>1</td>\n",
       "      <td>0</td>\n",
       "      <td>...</td>\n",
       "      <td>36.35</td>\n",
       "      <td>84</td>\n",
       "      <td>13.57</td>\n",
       "      <td>137</td>\n",
       "      <td>6.26</td>\n",
       "      <td>10</td>\n",
       "      <td>1.35</td>\n",
       "      <td>CT</td>\n",
       "      <td>510</td>\n",
       "      <td>364-6381</td>\n",
       "    </tr>\n",
       "    <tr>\n",
       "      <th>3332</th>\n",
       "      <td>74</td>\n",
       "      <td>25</td>\n",
       "      <td>234.4</td>\n",
       "      <td>265.9</td>\n",
       "      <td>241.4</td>\n",
       "      <td>13.7</td>\n",
       "      <td>0</td>\n",
       "      <td>0</td>\n",
       "      <td>0</td>\n",
       "      <td>1</td>\n",
       "      <td>...</td>\n",
       "      <td>39.85</td>\n",
       "      <td>82</td>\n",
       "      <td>22.60</td>\n",
       "      <td>77</td>\n",
       "      <td>10.86</td>\n",
       "      <td>4</td>\n",
       "      <td>3.70</td>\n",
       "      <td>TN</td>\n",
       "      <td>415</td>\n",
       "      <td>400-4344</td>\n",
       "    </tr>\n",
       "  </tbody>\n",
       "</table>\n",
       "<p>3333 rows × 21 columns</p>\n",
       "</div>"
      ],
      "text/plain": [
       "      AccountLength  VMailMessage  DayMins  EveMins  NightMins  IntlMins  \\\n",
       "0               128            25    265.1    197.4      244.7      10.0   \n",
       "1               107            26    161.6    195.5      254.4      13.7   \n",
       "2               137             0    243.4    121.2      162.6      12.2   \n",
       "3                84             0    299.4     61.9      196.9       6.6   \n",
       "4                75             0    166.7    148.3      186.9      10.1   \n",
       "...             ...           ...      ...      ...        ...       ...   \n",
       "3328            192            36    156.2    215.5      279.1       9.9   \n",
       "3329             68             0    231.1    153.4      191.3       9.6   \n",
       "3330             28             0    180.8    288.8      191.9      14.1   \n",
       "3331            184             0    213.8    159.6      139.2       5.0   \n",
       "3332             74            25    234.4    265.9      241.4      13.7   \n",
       "\n",
       "      CustServCalls  Churn  IntlPlan  VMailPlan  ...  DayCharge  EveCalls  \\\n",
       "0                 1      0         0          1  ...      45.07        99   \n",
       "1                 1      0         0          1  ...      27.47       103   \n",
       "2                 0      0         0          0  ...      41.38       110   \n",
       "3                 2      0         1          0  ...      50.90        88   \n",
       "4                 3      0         1          0  ...      28.34       122   \n",
       "...             ...    ...       ...        ...  ...        ...       ...   \n",
       "3328              2      0         0          1  ...      26.55       126   \n",
       "3329              3      0         0          0  ...      39.29        55   \n",
       "3330              2      0         0          0  ...      30.74        58   \n",
       "3331              2      0         1          0  ...      36.35        84   \n",
       "3332              0      0         0          1  ...      39.85        82   \n",
       "\n",
       "      EveCharge  NightCalls  NightCharge  IntlCalls  IntlCharge  State  \\\n",
       "0         16.78          91        11.01          3        2.70     KS   \n",
       "1         16.62         103        11.45          3        3.70     OH   \n",
       "2         10.30         104         7.32          5        3.29     NJ   \n",
       "3          5.26          89         8.86          7        1.78     OH   \n",
       "4         12.61         121         8.41          3        2.73     OK   \n",
       "...         ...         ...          ...        ...         ...    ...   \n",
       "3328      18.32          83        12.56          6        2.67     AZ   \n",
       "3329      13.04         123         8.61          4        2.59     WV   \n",
       "3330      24.55          91         8.64          6        3.81     RI   \n",
       "3331      13.57         137         6.26         10        1.35     CT   \n",
       "3332      22.60          77        10.86          4        3.70     TN   \n",
       "\n",
       "     AreaCode     Phone  \n",
       "0         415  382-4657  \n",
       "1         415  371-7191  \n",
       "2         415  358-1921  \n",
       "3         408  375-9999  \n",
       "4         415  330-6626  \n",
       "...       ...       ...  \n",
       "3328      415  414-4276  \n",
       "3329      415  370-3271  \n",
       "3330      510  328-8230  \n",
       "3331      510  364-6381  \n",
       "3332      415  400-4344  \n",
       "\n",
       "[3333 rows x 21 columns]"
      ]
     },
     "execution_count": 152,
     "metadata": {},
     "output_type": "execute_result"
    }
   ],
   "source": [
    "ch.toPandas()"
   ]
  },
  {
   "cell_type": "code",
   "execution_count": 153,
   "metadata": {},
   "outputs": [
    {
     "name": "stdout",
     "output_type": "stream",
     "text": [
      "root\n",
      " |-- AccountLength: integer (nullable = true)\n",
      " |-- VMailMessage: integer (nullable = true)\n",
      " |-- DayMins: double (nullable = true)\n",
      " |-- EveMins: double (nullable = true)\n",
      " |-- NightMins: double (nullable = true)\n",
      " |-- IntlMins: double (nullable = true)\n",
      " |-- CustServCalls: integer (nullable = true)\n",
      " |-- Churn: integer (nullable = true)\n",
      " |-- IntlPlan: integer (nullable = true)\n",
      " |-- VMailPlan: integer (nullable = true)\n",
      " |-- DayCalls: integer (nullable = true)\n",
      " |-- DayCharge: double (nullable = true)\n",
      " |-- EveCalls: integer (nullable = true)\n",
      " |-- EveCharge: double (nullable = true)\n",
      " |-- NightCalls: integer (nullable = true)\n",
      " |-- NightCharge: double (nullable = true)\n",
      " |-- IntlCalls: integer (nullable = true)\n",
      " |-- IntlCharge: double (nullable = true)\n",
      " |-- State: string (nullable = true)\n",
      " |-- AreaCode: integer (nullable = true)\n",
      " |-- Phone: string (nullable = true)\n",
      "\n"
     ]
    }
   ],
   "source": [
    "ch.printSchema()"
   ]
  },
  {
   "cell_type": "code",
   "execution_count": 154,
   "metadata": {},
   "outputs": [
    {
     "name": "stdout",
     "output_type": "stream",
     "text": [
      "+-----+-----+\n",
      "|Churn|count|\n",
      "+-----+-----+\n",
      "|    1|  483|\n",
      "|    0| 2850|\n",
      "+-----+-----+\n",
      "\n"
     ]
    }
   ],
   "source": [
    "ch.groupBy('Churn').count().show()"
   ]
  },
  {
   "cell_type": "markdown",
   "metadata": {},
   "source": [
    "# Data Preprocessing\n",
    "\n",
    "We have some variables which should be of categorical datatype but they are of type integer. First we have\n",
    "to convert them into as categorical variable.   "
   ]
  },
  {
   "cell_type": "code",
   "execution_count": 36,
   "metadata": {},
   "outputs": [],
   "source": [
    "ch=ch.withColumn(\"Churn\",ch.Churn.cast('BOOLEAN'))\n",
    "ch=ch.withColumn(\"IntlPlan\",ch.IntlPlan.cast('BOOLEAN'))\n",
    "ch=ch.withColumn(\"VMailPlan\",ch.VMailPlan.cast('BOOLEAN'))"
   ]
  },
  {
   "cell_type": "code",
   "execution_count": 155,
   "metadata": {},
   "outputs": [
    {
     "name": "stdout",
     "output_type": "stream",
     "text": [
      "root\n",
      " |-- AccountLength: integer (nullable = true)\n",
      " |-- VMailMessage: integer (nullable = true)\n",
      " |-- DayMins: double (nullable = true)\n",
      " |-- EveMins: double (nullable = true)\n",
      " |-- NightMins: double (nullable = true)\n",
      " |-- IntlMins: double (nullable = true)\n",
      " |-- CustServCalls: integer (nullable = true)\n",
      " |-- Churn: integer (nullable = true)\n",
      " |-- IntlPlan: integer (nullable = true)\n",
      " |-- VMailPlan: integer (nullable = true)\n",
      " |-- DayCalls: integer (nullable = true)\n",
      " |-- DayCharge: double (nullable = true)\n",
      " |-- EveCalls: integer (nullable = true)\n",
      " |-- EveCharge: double (nullable = true)\n",
      " |-- NightCalls: integer (nullable = true)\n",
      " |-- NightCharge: double (nullable = true)\n",
      " |-- IntlCalls: integer (nullable = true)\n",
      " |-- IntlCharge: double (nullable = true)\n",
      " |-- State: string (nullable = true)\n",
      " |-- AreaCode: integer (nullable = true)\n",
      " |-- Phone: string (nullable = true)\n",
      "\n"
     ]
    }
   ],
   "source": [
    "ch.printSchema()"
   ]
  },
  {
   "cell_type": "markdown",
   "metadata": {},
   "source": [
    "# Exploratory Data Analysis\n",
    "\n",
    "Follow steps 7 and 8."
   ]
  },
  {
   "cell_type": "markdown",
   "metadata": {},
   "source": [
    "#### Summary of Dataframe\n",
    "\n",
    "In pyspark we use 'describe()' to display the summary of variables in dataframe. Also the describe variables doesn't\n",
    "show the summary of categorical variables in dataframe. We have to explore them explicitly."
   ]
  },
  {
   "cell_type": "code",
   "execution_count": 157,
   "metadata": {},
   "outputs": [
    {
     "data": {
      "text/html": [
       "<div>\n",
       "<style scoped>\n",
       "    .dataframe tbody tr th:only-of-type {\n",
       "        vertical-align: middle;\n",
       "    }\n",
       "\n",
       "    .dataframe tbody tr th {\n",
       "        vertical-align: top;\n",
       "    }\n",
       "\n",
       "    .dataframe thead th {\n",
       "        text-align: right;\n",
       "    }\n",
       "</style>\n",
       "<table border=\"1\" class=\"dataframe\">\n",
       "  <thead>\n",
       "    <tr style=\"text-align: right;\">\n",
       "      <th></th>\n",
       "      <th>count</th>\n",
       "      <th>mean</th>\n",
       "      <th>std</th>\n",
       "      <th>min</th>\n",
       "      <th>25%</th>\n",
       "      <th>50%</th>\n",
       "      <th>75%</th>\n",
       "      <th>max</th>\n",
       "    </tr>\n",
       "  </thead>\n",
       "  <tbody>\n",
       "    <tr>\n",
       "      <th>AccountLength</th>\n",
       "      <td>3333.0</td>\n",
       "      <td>101.064806</td>\n",
       "      <td>39.822106</td>\n",
       "      <td>1.00</td>\n",
       "      <td>74.00</td>\n",
       "      <td>101.00</td>\n",
       "      <td>127.00</td>\n",
       "      <td>243.00</td>\n",
       "    </tr>\n",
       "    <tr>\n",
       "      <th>VMailMessage</th>\n",
       "      <td>3333.0</td>\n",
       "      <td>8.099010</td>\n",
       "      <td>13.688365</td>\n",
       "      <td>0.00</td>\n",
       "      <td>0.00</td>\n",
       "      <td>0.00</td>\n",
       "      <td>20.00</td>\n",
       "      <td>51.00</td>\n",
       "    </tr>\n",
       "    <tr>\n",
       "      <th>DayMins</th>\n",
       "      <td>3333.0</td>\n",
       "      <td>179.775098</td>\n",
       "      <td>54.467389</td>\n",
       "      <td>0.00</td>\n",
       "      <td>143.70</td>\n",
       "      <td>179.40</td>\n",
       "      <td>216.40</td>\n",
       "      <td>350.80</td>\n",
       "    </tr>\n",
       "    <tr>\n",
       "      <th>EveMins</th>\n",
       "      <td>3333.0</td>\n",
       "      <td>200.980348</td>\n",
       "      <td>50.713844</td>\n",
       "      <td>0.00</td>\n",
       "      <td>166.60</td>\n",
       "      <td>201.40</td>\n",
       "      <td>235.30</td>\n",
       "      <td>363.70</td>\n",
       "    </tr>\n",
       "    <tr>\n",
       "      <th>NightMins</th>\n",
       "      <td>3333.0</td>\n",
       "      <td>200.872037</td>\n",
       "      <td>50.573847</td>\n",
       "      <td>23.20</td>\n",
       "      <td>167.00</td>\n",
       "      <td>201.20</td>\n",
       "      <td>235.30</td>\n",
       "      <td>395.00</td>\n",
       "    </tr>\n",
       "    <tr>\n",
       "      <th>IntlMins</th>\n",
       "      <td>3333.0</td>\n",
       "      <td>10.237294</td>\n",
       "      <td>2.791840</td>\n",
       "      <td>0.00</td>\n",
       "      <td>8.50</td>\n",
       "      <td>10.30</td>\n",
       "      <td>12.10</td>\n",
       "      <td>20.00</td>\n",
       "    </tr>\n",
       "    <tr>\n",
       "      <th>CustServCalls</th>\n",
       "      <td>3333.0</td>\n",
       "      <td>1.562856</td>\n",
       "      <td>1.315491</td>\n",
       "      <td>0.00</td>\n",
       "      <td>1.00</td>\n",
       "      <td>1.00</td>\n",
       "      <td>2.00</td>\n",
       "      <td>9.00</td>\n",
       "    </tr>\n",
       "    <tr>\n",
       "      <th>Churn</th>\n",
       "      <td>3333.0</td>\n",
       "      <td>0.144914</td>\n",
       "      <td>0.352067</td>\n",
       "      <td>0.00</td>\n",
       "      <td>0.00</td>\n",
       "      <td>0.00</td>\n",
       "      <td>0.00</td>\n",
       "      <td>1.00</td>\n",
       "    </tr>\n",
       "    <tr>\n",
       "      <th>IntlPlan</th>\n",
       "      <td>3333.0</td>\n",
       "      <td>0.096910</td>\n",
       "      <td>0.295879</td>\n",
       "      <td>0.00</td>\n",
       "      <td>0.00</td>\n",
       "      <td>0.00</td>\n",
       "      <td>0.00</td>\n",
       "      <td>1.00</td>\n",
       "    </tr>\n",
       "    <tr>\n",
       "      <th>VMailPlan</th>\n",
       "      <td>3333.0</td>\n",
       "      <td>0.276628</td>\n",
       "      <td>0.447398</td>\n",
       "      <td>0.00</td>\n",
       "      <td>0.00</td>\n",
       "      <td>0.00</td>\n",
       "      <td>1.00</td>\n",
       "      <td>1.00</td>\n",
       "    </tr>\n",
       "    <tr>\n",
       "      <th>DayCalls</th>\n",
       "      <td>3333.0</td>\n",
       "      <td>100.435644</td>\n",
       "      <td>20.069084</td>\n",
       "      <td>0.00</td>\n",
       "      <td>87.00</td>\n",
       "      <td>101.00</td>\n",
       "      <td>114.00</td>\n",
       "      <td>165.00</td>\n",
       "    </tr>\n",
       "    <tr>\n",
       "      <th>DayCharge</th>\n",
       "      <td>3333.0</td>\n",
       "      <td>30.562307</td>\n",
       "      <td>9.259435</td>\n",
       "      <td>0.00</td>\n",
       "      <td>24.43</td>\n",
       "      <td>30.50</td>\n",
       "      <td>36.79</td>\n",
       "      <td>59.64</td>\n",
       "    </tr>\n",
       "    <tr>\n",
       "      <th>EveCalls</th>\n",
       "      <td>3333.0</td>\n",
       "      <td>100.114311</td>\n",
       "      <td>19.922625</td>\n",
       "      <td>0.00</td>\n",
       "      <td>87.00</td>\n",
       "      <td>100.00</td>\n",
       "      <td>114.00</td>\n",
       "      <td>170.00</td>\n",
       "    </tr>\n",
       "    <tr>\n",
       "      <th>EveCharge</th>\n",
       "      <td>3333.0</td>\n",
       "      <td>17.083540</td>\n",
       "      <td>4.310668</td>\n",
       "      <td>0.00</td>\n",
       "      <td>14.16</td>\n",
       "      <td>17.12</td>\n",
       "      <td>20.00</td>\n",
       "      <td>30.91</td>\n",
       "    </tr>\n",
       "    <tr>\n",
       "      <th>NightCalls</th>\n",
       "      <td>3333.0</td>\n",
       "      <td>100.107711</td>\n",
       "      <td>19.568609</td>\n",
       "      <td>33.00</td>\n",
       "      <td>87.00</td>\n",
       "      <td>100.00</td>\n",
       "      <td>113.00</td>\n",
       "      <td>175.00</td>\n",
       "    </tr>\n",
       "    <tr>\n",
       "      <th>NightCharge</th>\n",
       "      <td>3333.0</td>\n",
       "      <td>9.039325</td>\n",
       "      <td>2.275873</td>\n",
       "      <td>1.04</td>\n",
       "      <td>7.52</td>\n",
       "      <td>9.05</td>\n",
       "      <td>10.59</td>\n",
       "      <td>17.77</td>\n",
       "    </tr>\n",
       "    <tr>\n",
       "      <th>IntlCalls</th>\n",
       "      <td>3333.0</td>\n",
       "      <td>4.479448</td>\n",
       "      <td>2.461214</td>\n",
       "      <td>0.00</td>\n",
       "      <td>3.00</td>\n",
       "      <td>4.00</td>\n",
       "      <td>6.00</td>\n",
       "      <td>20.00</td>\n",
       "    </tr>\n",
       "    <tr>\n",
       "      <th>IntlCharge</th>\n",
       "      <td>3333.0</td>\n",
       "      <td>2.764581</td>\n",
       "      <td>0.753773</td>\n",
       "      <td>0.00</td>\n",
       "      <td>2.30</td>\n",
       "      <td>2.78</td>\n",
       "      <td>3.27</td>\n",
       "      <td>5.40</td>\n",
       "    </tr>\n",
       "    <tr>\n",
       "      <th>AreaCode</th>\n",
       "      <td>3333.0</td>\n",
       "      <td>437.182418</td>\n",
       "      <td>42.371290</td>\n",
       "      <td>408.00</td>\n",
       "      <td>408.00</td>\n",
       "      <td>415.00</td>\n",
       "      <td>510.00</td>\n",
       "      <td>510.00</td>\n",
       "    </tr>\n",
       "  </tbody>\n",
       "</table>\n",
       "</div>"
      ],
      "text/plain": [
       "                count        mean        std     min     25%     50%     75%  \\\n",
       "AccountLength  3333.0  101.064806  39.822106    1.00   74.00  101.00  127.00   \n",
       "VMailMessage   3333.0    8.099010  13.688365    0.00    0.00    0.00   20.00   \n",
       "DayMins        3333.0  179.775098  54.467389    0.00  143.70  179.40  216.40   \n",
       "EveMins        3333.0  200.980348  50.713844    0.00  166.60  201.40  235.30   \n",
       "NightMins      3333.0  200.872037  50.573847   23.20  167.00  201.20  235.30   \n",
       "IntlMins       3333.0   10.237294   2.791840    0.00    8.50   10.30   12.10   \n",
       "CustServCalls  3333.0    1.562856   1.315491    0.00    1.00    1.00    2.00   \n",
       "Churn          3333.0    0.144914   0.352067    0.00    0.00    0.00    0.00   \n",
       "IntlPlan       3333.0    0.096910   0.295879    0.00    0.00    0.00    0.00   \n",
       "VMailPlan      3333.0    0.276628   0.447398    0.00    0.00    0.00    1.00   \n",
       "DayCalls       3333.0  100.435644  20.069084    0.00   87.00  101.00  114.00   \n",
       "DayCharge      3333.0   30.562307   9.259435    0.00   24.43   30.50   36.79   \n",
       "EveCalls       3333.0  100.114311  19.922625    0.00   87.00  100.00  114.00   \n",
       "EveCharge      3333.0   17.083540   4.310668    0.00   14.16   17.12   20.00   \n",
       "NightCalls     3333.0  100.107711  19.568609   33.00   87.00  100.00  113.00   \n",
       "NightCharge    3333.0    9.039325   2.275873    1.04    7.52    9.05   10.59   \n",
       "IntlCalls      3333.0    4.479448   2.461214    0.00    3.00    4.00    6.00   \n",
       "IntlCharge     3333.0    2.764581   0.753773    0.00    2.30    2.78    3.27   \n",
       "AreaCode       3333.0  437.182418  42.371290  408.00  408.00  415.00  510.00   \n",
       "\n",
       "                  max  \n",
       "AccountLength  243.00  \n",
       "VMailMessage    51.00  \n",
       "DayMins        350.80  \n",
       "EveMins        363.70  \n",
       "NightMins      395.00  \n",
       "IntlMins        20.00  \n",
       "CustServCalls    9.00  \n",
       "Churn            1.00  \n",
       "IntlPlan         1.00  \n",
       "VMailPlan        1.00  \n",
       "DayCalls       165.00  \n",
       "DayCharge       59.64  \n",
       "EveCalls       170.00  \n",
       "EveCharge       30.91  \n",
       "NightCalls     175.00  \n",
       "NightCharge     17.77  \n",
       "IntlCalls       20.00  \n",
       "IntlCharge       5.40  \n",
       "AreaCode       510.00  "
      ]
     },
     "execution_count": 157,
     "metadata": {},
     "output_type": "execute_result"
    }
   ],
   "source": [
    "ch.toPandas().describe().T"
   ]
  },
  {
   "cell_type": "markdown",
   "metadata": {
    "collapsed": true
   },
   "source": [
    "From the obtained table we find that, summary of dataframe  includes-\n",
    "\n",
    "**count**- displaying the number of observations in each variable.\n",
    "\n",
    "**mean**- the mean value around which each observation lies.\n",
    "\n",
    "**std**- standard deviation; Its a measure of how much close to the mean value the actual data points are.\n",
    "\n",
    "**min and max**- displays the maximum and minimum value of a variable in dataframe. e.g. in variable account length the\n",
    "                 service used by people for minimum 1 day and maximum for 243 days. \n",
    "\n",
    "**25%**- it shows the first quartile of variable e.g. if we look at the Account Length then it means 25% of the people used\n",
    "         service for 74 days, similarly for other variables.\n",
    "\n",
    "**50%**- it shows second quartile of variable e.g. in the vaiable Account Length then it means 50% of the people used service            for 101 days. \n",
    "\n",
    "**75%**- shows the third quartile and 75% of people used service for 127 days. "
   ]
  },
  {
   "cell_type": "code",
   "execution_count": 172,
   "metadata": {},
   "outputs": [
    {
     "data": {
      "image/png": "[encoded data removed]",
      "text/plain": [
       "<Figure size 432x288 with 1 Axes>"
      ]
     },
     "metadata": {
      "needs_background": "light"
     },
     "output_type": "display_data"
    }
   ],
   "source": [
    "# Doing the heavy lifting in Spark. We could leverage the `histogram` function from the RDD api\n",
    "\n",
    "gre_histogram = ch.select('DayMins').rdd.flatMap(lambda x: x).histogram(10)\n",
    "\n",
    "# Loading the Computed Histogram into a Pandas Dataframe for plotting\n",
    "pd.DataFrame(\n",
    "    list(zip(*gre_histogram)), \n",
    "    columns=['bin', 'frequency']\n",
    ").set_index(\n",
    "    'bin'\n",
    ").plot(kind='bar');"
   ]
  },
  {
   "cell_type": "markdown",
   "metadata": {},
   "source": [
    "#### Histogram for Day minutes spent by customers"
   ]
  },
  {
   "cell_type": "markdown",
   "metadata": {},
   "source": [
    "The histogram shows that total day minutes spent by customers on day minutes during their service period."
   ]
  },
  {
   "cell_type": "code",
   "execution_count": 165,
   "metadata": {},
   "outputs": [
    {
     "data": {
      "text/plain": [
       "<seaborn.axisgrid.FacetGrid at 0x7f8f9f1d1fd0>"
      ]
     },
     "execution_count": 165,
     "metadata": {},
     "output_type": "execute_result"
    },
    {
     "data": {
      "image/png": "[encoded data removed]",
      "text/plain": [
       "<Figure size 432x216 with 2 Axes>"
      ]
     },
     "metadata": {
      "needs_background": "light"
     },
     "output_type": "display_data"
    }
   ],
   "source": [
    "import seaborn as sns\n",
    "g = sns.FacetGrid(ch.toPandas(), col=\"Churn\")\n",
    "g.map(plt.hist, \"DayMins\")\n"
   ]
  },
  {
   "cell_type": "code",
   "execution_count": 171,
   "metadata": {},
   "outputs": [
    {
     "data": {
      "image/png": "[encoded data removed]",
      "text/plain": [
       "<Figure size 432x288 with 1 Axes>"
      ]
     },
     "metadata": {
      "needs_background": "light"
     },
     "output_type": "display_data"
    }
   ],
   "source": [
    "plt.hist(ch.select('DayMins').toPandas()['DayMins'], bins= 10, facecolor= 'tan')\n",
    "plt.xlabel('Total Day Minutes')\n",
    "plt.ylabel('No. of Customers')\n",
    "plt.show()"
   ]
  },
  {
   "cell_type": "markdown",
   "metadata": {},
   "source": [
    "In the above plot **churn=0** shows **non-churner** and **churn=1** shows **churner**. "
   ]
  },
  {
   "cell_type": "markdown",
   "metadata": {},
   "source": [
    "#### Number of customers opt voice mail plan"
   ]
  },
  {
   "cell_type": "code",
   "execution_count": 8,
   "metadata": {},
   "outputs": [
    {
     "data": {
      "text/plain": [
       "0    2411\n",
       "1     922\n",
       "Name: VMail Plan, dtype: int64"
      ]
     },
     "execution_count": 8,
     "metadata": {},
     "output_type": "execute_result"
    }
   ],
   "source": [
    "ch['VMail Plan'].value_counts()"
   ]
  },
  {
   "cell_type": "code",
   "execution_count": 176,
   "metadata": {},
   "outputs": [
    {
     "name": "stdout",
     "output_type": "stream",
     "text": [
      "+---------+-----+\n",
      "|VMailPlan|count|\n",
      "+---------+-----+\n",
      "|        1|  922|\n",
      "|        0| 2411|\n",
      "+---------+-----+\n",
      "\n"
     ]
    }
   ],
   "source": [
    "ch.groupBy('VMailPlan').count().show()"
   ]
  },
  {
   "cell_type": "markdown",
   "metadata": {},
   "source": [
    "We find that 2411 customers who didn't opt the voice mail plan and 922 customers who opted the voice mail plan.   "
   ]
  },
  {
   "cell_type": "code",
   "execution_count": 177,
   "metadata": {},
   "outputs": [
    {
     "data": {
      "text/plain": [
       "<matplotlib.axes._subplots.AxesSubplot at 0x7f8f66bbf2d0>"
      ]
     },
     "execution_count": 177,
     "metadata": {},
     "output_type": "execute_result"
    },
    {
     "data": {
      "image/png": "[encoded data removed]",
      "text/plain": [
       "<Figure size 432x288 with 1 Axes>"
      ]
     },
     "metadata": {},
     "output_type": "display_data"
    }
   ],
   "source": [
    "sns.set(style=\"whitegrid\", color_codes=True)\n",
    "sns.countplot(x=\"VMailPlan\", hue= \"Churn\", data=ch.toPandas())"
   ]
  },
  {
   "cell_type": "markdown",
   "metadata": {},
   "source": [
    "#### International Plan opt by customer "
   ]
  },
  {
   "cell_type": "code",
   "execution_count": 180,
   "metadata": {},
   "outputs": [
    {
     "data": {
      "text/plain": [
       "0    3010\n",
       "1     323\n",
       "Name: IntlPlan, dtype: int64"
      ]
     },
     "execution_count": 180,
     "metadata": {},
     "output_type": "execute_result"
    }
   ],
   "source": [
    "ch.toPandas()['IntlPlan'].value_counts()"
   ]
  },
  {
   "cell_type": "markdown",
   "metadata": {},
   "source": [
    "We find that 3010 customer didn't opt international plan and 323 customers opt the international plan."
   ]
  },
  {
   "cell_type": "code",
   "execution_count": 181,
   "metadata": {},
   "outputs": [
    {
     "data": {
      "text/plain": [
       "<matplotlib.axes._subplots.AxesSubplot at 0x7f8f6727ef50>"
      ]
     },
     "execution_count": 181,
     "metadata": {},
     "output_type": "execute_result"
    },
    {
     "data": {
      "image/png": "[encoded data removed]",
      "text/plain": [
       "<Figure size 432x288 with 1 Axes>"
      ]
     },
     "metadata": {},
     "output_type": "display_data"
    }
   ],
   "source": [
    "sns.countplot(x=\"IntlPlan\", hue= \"Churn\", data=ch.toPandas())"
   ]
  },
  {
   "cell_type": "markdown",
   "metadata": {},
   "source": [
    "#### Areawise churner and non-churner"
   ]
  },
  {
   "cell_type": "code",
   "execution_count": 182,
   "metadata": {},
   "outputs": [
    {
     "name": "stdout",
     "output_type": "stream",
     "text": [
      "+--------+-----+\n",
      "|AreaCode|count|\n",
      "+--------+-----+\n",
      "|     415| 1655|\n",
      "|     510|  840|\n",
      "|     408|  838|\n",
      "+--------+-----+\n",
      "\n"
     ]
    }
   ],
   "source": [
    "ch.groupBy('AreaCode').count().show()"
   ]
  },
  {
   "cell_type": "code",
   "execution_count": 183,
   "metadata": {},
   "outputs": [
    {
     "data": {
      "text/plain": [
       "<matplotlib.axes._subplots.AxesSubplot at 0x7f8fa18b3210>"
      ]
     },
     "execution_count": 183,
     "metadata": {},
     "output_type": "execute_result"
    },
    {
     "data": {
      "image/png": "[encoded data removed]",
      "text/plain": [
       "<Figure size 432x288 with 1 Axes>"
      ]
     },
     "metadata": {},
     "output_type": "display_data"
    }
   ],
   "source": [
    "#ch['Area Code']= ch['Area Code'].astype('category')\n",
    "sns.countplot(x=\"AreaCode\", hue= \"Churn\", data=ch.toPandas())"
   ]
  },
  {
   "cell_type": "markdown",
   "metadata": {},
   "source": [
    "#### Correlation Matrix"
   ]
  },
  {
   "cell_type": "code",
   "execution_count": 184,
   "metadata": {
    "scrolled": true
   },
   "outputs": [
    {
     "data": {
      "text/html": [
       "<div>\n",
       "<style scoped>\n",
       "    .dataframe tbody tr th:only-of-type {\n",
       "        vertical-align: middle;\n",
       "    }\n",
       "\n",
       "    .dataframe tbody tr th {\n",
       "        vertical-align: top;\n",
       "    }\n",
       "\n",
       "    .dataframe thead th {\n",
       "        text-align: right;\n",
       "    }\n",
       "</style>\n",
       "<table border=\"1\" class=\"dataframe\">\n",
       "  <thead>\n",
       "    <tr style=\"text-align: right;\">\n",
       "      <th></th>\n",
       "      <th>AccountLength</th>\n",
       "      <th>VMailMessage</th>\n",
       "      <th>DayMins</th>\n",
       "      <th>EveMins</th>\n",
       "      <th>NightMins</th>\n",
       "      <th>IntlMins</th>\n",
       "      <th>CustServCalls</th>\n",
       "      <th>Churn</th>\n",
       "      <th>IntlPlan</th>\n",
       "      <th>VMailPlan</th>\n",
       "      <th>DayCalls</th>\n",
       "      <th>DayCharge</th>\n",
       "      <th>EveCalls</th>\n",
       "      <th>EveCharge</th>\n",
       "      <th>NightCalls</th>\n",
       "      <th>NightCharge</th>\n",
       "      <th>IntlCalls</th>\n",
       "      <th>IntlCharge</th>\n",
       "      <th>AreaCode</th>\n",
       "    </tr>\n",
       "  </thead>\n",
       "  <tbody>\n",
       "    <tr>\n",
       "      <th>AccountLength</th>\n",
       "      <td>1.000000</td>\n",
       "      <td>-0.004628</td>\n",
       "      <td>0.006216</td>\n",
       "      <td>-0.006757</td>\n",
       "      <td>-0.008955</td>\n",
       "      <td>0.009514</td>\n",
       "      <td>-0.003796</td>\n",
       "      <td>0.016541</td>\n",
       "      <td>0.024735</td>\n",
       "      <td>0.002918</td>\n",
       "      <td>0.038470</td>\n",
       "      <td>0.006214</td>\n",
       "      <td>0.019260</td>\n",
       "      <td>-0.006745</td>\n",
       "      <td>-0.013176</td>\n",
       "      <td>-0.008960</td>\n",
       "      <td>0.020661</td>\n",
       "      <td>0.009546</td>\n",
       "      <td>-0.012463</td>\n",
       "    </tr>\n",
       "    <tr>\n",
       "      <th>VMailMessage</th>\n",
       "      <td>-0.004628</td>\n",
       "      <td>1.000000</td>\n",
       "      <td>0.000778</td>\n",
       "      <td>0.017562</td>\n",
       "      <td>0.007681</td>\n",
       "      <td>0.002856</td>\n",
       "      <td>-0.013263</td>\n",
       "      <td>-0.089728</td>\n",
       "      <td>0.008745</td>\n",
       "      <td>0.956927</td>\n",
       "      <td>-0.009548</td>\n",
       "      <td>0.000776</td>\n",
       "      <td>-0.005864</td>\n",
       "      <td>0.017578</td>\n",
       "      <td>0.007123</td>\n",
       "      <td>0.007663</td>\n",
       "      <td>0.013957</td>\n",
       "      <td>0.002884</td>\n",
       "      <td>-0.001994</td>\n",
       "    </tr>\n",
       "    <tr>\n",
       "      <th>DayMins</th>\n",
       "      <td>0.006216</td>\n",
       "      <td>0.000778</td>\n",
       "      <td>1.000000</td>\n",
       "      <td>0.007043</td>\n",
       "      <td>0.004323</td>\n",
       "      <td>-0.010155</td>\n",
       "      <td>-0.013423</td>\n",
       "      <td>0.205151</td>\n",
       "      <td>0.049396</td>\n",
       "      <td>-0.001684</td>\n",
       "      <td>0.006750</td>\n",
       "      <td>1.000000</td>\n",
       "      <td>0.015769</td>\n",
       "      <td>0.007029</td>\n",
       "      <td>0.022972</td>\n",
       "      <td>0.004300</td>\n",
       "      <td>0.008033</td>\n",
       "      <td>-0.010092</td>\n",
       "      <td>-0.008264</td>\n",
       "    </tr>\n",
       "    <tr>\n",
       "      <th>EveMins</th>\n",
       "      <td>-0.006757</td>\n",
       "      <td>0.017562</td>\n",
       "      <td>0.007043</td>\n",
       "      <td>1.000000</td>\n",
       "      <td>-0.012584</td>\n",
       "      <td>-0.011035</td>\n",
       "      <td>-0.012985</td>\n",
       "      <td>0.092796</td>\n",
       "      <td>0.019100</td>\n",
       "      <td>0.021545</td>\n",
       "      <td>-0.021451</td>\n",
       "      <td>0.007050</td>\n",
       "      <td>-0.011430</td>\n",
       "      <td>1.000000</td>\n",
       "      <td>0.007586</td>\n",
       "      <td>-0.012593</td>\n",
       "      <td>0.002541</td>\n",
       "      <td>-0.011067</td>\n",
       "      <td>0.003580</td>\n",
       "    </tr>\n",
       "    <tr>\n",
       "      <th>NightMins</th>\n",
       "      <td>-0.008955</td>\n",
       "      <td>0.007681</td>\n",
       "      <td>0.004323</td>\n",
       "      <td>-0.012584</td>\n",
       "      <td>1.000000</td>\n",
       "      <td>-0.015207</td>\n",
       "      <td>-0.009288</td>\n",
       "      <td>0.035493</td>\n",
       "      <td>-0.028905</td>\n",
       "      <td>0.006079</td>\n",
       "      <td>0.022938</td>\n",
       "      <td>0.004324</td>\n",
       "      <td>-0.002093</td>\n",
       "      <td>-0.012592</td>\n",
       "      <td>0.011204</td>\n",
       "      <td>0.999999</td>\n",
       "      <td>-0.012353</td>\n",
       "      <td>-0.015180</td>\n",
       "      <td>-0.005825</td>\n",
       "    </tr>\n",
       "    <tr>\n",
       "      <th>IntlMins</th>\n",
       "      <td>0.009514</td>\n",
       "      <td>0.002856</td>\n",
       "      <td>-0.010155</td>\n",
       "      <td>-0.011035</td>\n",
       "      <td>-0.015207</td>\n",
       "      <td>1.000000</td>\n",
       "      <td>-0.009640</td>\n",
       "      <td>0.068239</td>\n",
       "      <td>0.045871</td>\n",
       "      <td>-0.001318</td>\n",
       "      <td>0.021565</td>\n",
       "      <td>-0.010157</td>\n",
       "      <td>0.008703</td>\n",
       "      <td>-0.011043</td>\n",
       "      <td>-0.013605</td>\n",
       "      <td>-0.015214</td>\n",
       "      <td>0.032304</td>\n",
       "      <td>0.999993</td>\n",
       "      <td>-0.018288</td>\n",
       "    </tr>\n",
       "    <tr>\n",
       "      <th>CustServCalls</th>\n",
       "      <td>-0.003796</td>\n",
       "      <td>-0.013263</td>\n",
       "      <td>-0.013423</td>\n",
       "      <td>-0.012985</td>\n",
       "      <td>-0.009288</td>\n",
       "      <td>-0.009640</td>\n",
       "      <td>1.000000</td>\n",
       "      <td>0.208750</td>\n",
       "      <td>-0.024522</td>\n",
       "      <td>-0.017824</td>\n",
       "      <td>-0.018942</td>\n",
       "      <td>-0.013427</td>\n",
       "      <td>0.002423</td>\n",
       "      <td>-0.012987</td>\n",
       "      <td>-0.012802</td>\n",
       "      <td>-0.009277</td>\n",
       "      <td>-0.017561</td>\n",
       "      <td>-0.009675</td>\n",
       "      <td>0.027572</td>\n",
       "    </tr>\n",
       "    <tr>\n",
       "      <th>Churn</th>\n",
       "      <td>0.016541</td>\n",
       "      <td>-0.089728</td>\n",
       "      <td>0.205151</td>\n",
       "      <td>0.092796</td>\n",
       "      <td>0.035493</td>\n",
       "      <td>0.068239</td>\n",
       "      <td>0.208750</td>\n",
       "      <td>1.000000</td>\n",
       "      <td>0.259852</td>\n",
       "      <td>-0.102148</td>\n",
       "      <td>0.018459</td>\n",
       "      <td>0.205151</td>\n",
       "      <td>0.009233</td>\n",
       "      <td>0.092786</td>\n",
       "      <td>0.006141</td>\n",
       "      <td>0.035496</td>\n",
       "      <td>-0.052844</td>\n",
       "      <td>0.068259</td>\n",
       "      <td>0.006174</td>\n",
       "    </tr>\n",
       "    <tr>\n",
       "      <th>IntlPlan</th>\n",
       "      <td>0.024735</td>\n",
       "      <td>0.008745</td>\n",
       "      <td>0.049396</td>\n",
       "      <td>0.019100</td>\n",
       "      <td>-0.028905</td>\n",
       "      <td>0.045871</td>\n",
       "      <td>-0.024522</td>\n",
       "      <td>0.259852</td>\n",
       "      <td>1.000000</td>\n",
       "      <td>0.006006</td>\n",
       "      <td>0.003755</td>\n",
       "      <td>0.049398</td>\n",
       "      <td>0.006114</td>\n",
       "      <td>0.019106</td>\n",
       "      <td>0.012451</td>\n",
       "      <td>-0.028913</td>\n",
       "      <td>0.017366</td>\n",
       "      <td>0.045780</td>\n",
       "      <td>0.048551</td>\n",
       "    </tr>\n",
       "    <tr>\n",
       "      <th>VMailPlan</th>\n",
       "      <td>0.002918</td>\n",
       "      <td>0.956927</td>\n",
       "      <td>-0.001684</td>\n",
       "      <td>0.021545</td>\n",
       "      <td>0.006079</td>\n",
       "      <td>-0.001318</td>\n",
       "      <td>-0.017824</td>\n",
       "      <td>-0.102148</td>\n",
       "      <td>0.006006</td>\n",
       "      <td>1.000000</td>\n",
       "      <td>-0.011086</td>\n",
       "      <td>-0.001686</td>\n",
       "      <td>-0.006444</td>\n",
       "      <td>0.021559</td>\n",
       "      <td>0.015553</td>\n",
       "      <td>0.006064</td>\n",
       "      <td>0.007618</td>\n",
       "      <td>-0.001276</td>\n",
       "      <td>-0.000747</td>\n",
       "    </tr>\n",
       "    <tr>\n",
       "      <th>DayCalls</th>\n",
       "      <td>0.038470</td>\n",
       "      <td>-0.009548</td>\n",
       "      <td>0.006750</td>\n",
       "      <td>-0.021451</td>\n",
       "      <td>0.022938</td>\n",
       "      <td>0.021565</td>\n",
       "      <td>-0.018942</td>\n",
       "      <td>0.018459</td>\n",
       "      <td>0.003755</td>\n",
       "      <td>-0.011086</td>\n",
       "      <td>1.000000</td>\n",
       "      <td>0.006753</td>\n",
       "      <td>0.006462</td>\n",
       "      <td>-0.021449</td>\n",
       "      <td>-0.019557</td>\n",
       "      <td>0.022927</td>\n",
       "      <td>0.004574</td>\n",
       "      <td>0.021666</td>\n",
       "      <td>-0.009646</td>\n",
       "    </tr>\n",
       "    <tr>\n",
       "      <th>DayCharge</th>\n",
       "      <td>0.006214</td>\n",
       "      <td>0.000776</td>\n",
       "      <td>1.000000</td>\n",
       "      <td>0.007050</td>\n",
       "      <td>0.004324</td>\n",
       "      <td>-0.010157</td>\n",
       "      <td>-0.013427</td>\n",
       "      <td>0.205151</td>\n",
       "      <td>0.049398</td>\n",
       "      <td>-0.001686</td>\n",
       "      <td>0.006753</td>\n",
       "      <td>1.000000</td>\n",
       "      <td>0.015769</td>\n",
       "      <td>0.007036</td>\n",
       "      <td>0.022972</td>\n",
       "      <td>0.004301</td>\n",
       "      <td>0.008032</td>\n",
       "      <td>-0.010094</td>\n",
       "      <td>-0.008264</td>\n",
       "    </tr>\n",
       "    <tr>\n",
       "      <th>EveCalls</th>\n",
       "      <td>0.019260</td>\n",
       "      <td>-0.005864</td>\n",
       "      <td>0.015769</td>\n",
       "      <td>-0.011430</td>\n",
       "      <td>-0.002093</td>\n",
       "      <td>0.008703</td>\n",
       "      <td>0.002423</td>\n",
       "      <td>0.009233</td>\n",
       "      <td>0.006114</td>\n",
       "      <td>-0.006444</td>\n",
       "      <td>0.006462</td>\n",
       "      <td>0.015769</td>\n",
       "      <td>1.000000</td>\n",
       "      <td>-0.011423</td>\n",
       "      <td>0.007710</td>\n",
       "      <td>-0.002056</td>\n",
       "      <td>0.017434</td>\n",
       "      <td>0.008674</td>\n",
       "      <td>-0.011886</td>\n",
       "    </tr>\n",
       "    <tr>\n",
       "      <th>EveCharge</th>\n",
       "      <td>-0.006745</td>\n",
       "      <td>0.017578</td>\n",
       "      <td>0.007029</td>\n",
       "      <td>1.000000</td>\n",
       "      <td>-0.012592</td>\n",
       "      <td>-0.011043</td>\n",
       "      <td>-0.012987</td>\n",
       "      <td>0.092786</td>\n",
       "      <td>0.019106</td>\n",
       "      <td>0.021559</td>\n",
       "      <td>-0.021449</td>\n",
       "      <td>0.007036</td>\n",
       "      <td>-0.011423</td>\n",
       "      <td>1.000000</td>\n",
       "      <td>0.007596</td>\n",
       "      <td>-0.012601</td>\n",
       "      <td>0.002541</td>\n",
       "      <td>-0.011074</td>\n",
       "      <td>0.003607</td>\n",
       "    </tr>\n",
       "    <tr>\n",
       "      <th>NightCalls</th>\n",
       "      <td>-0.013176</td>\n",
       "      <td>0.007123</td>\n",
       "      <td>0.022972</td>\n",
       "      <td>0.007586</td>\n",
       "      <td>0.011204</td>\n",
       "      <td>-0.013605</td>\n",
       "      <td>-0.012802</td>\n",
       "      <td>0.006141</td>\n",
       "      <td>0.012451</td>\n",
       "      <td>0.015553</td>\n",
       "      <td>-0.019557</td>\n",
       "      <td>0.022972</td>\n",
       "      <td>0.007710</td>\n",
       "      <td>0.007596</td>\n",
       "      <td>1.000000</td>\n",
       "      <td>0.011188</td>\n",
       "      <td>0.000305</td>\n",
       "      <td>-0.013630</td>\n",
       "      <td>0.016522</td>\n",
       "    </tr>\n",
       "    <tr>\n",
       "      <th>NightCharge</th>\n",
       "      <td>-0.008960</td>\n",
       "      <td>0.007663</td>\n",
       "      <td>0.004300</td>\n",
       "      <td>-0.012593</td>\n",
       "      <td>0.999999</td>\n",
       "      <td>-0.015214</td>\n",
       "      <td>-0.009277</td>\n",
       "      <td>0.035496</td>\n",
       "      <td>-0.028913</td>\n",
       "      <td>0.006064</td>\n",
       "      <td>0.022927</td>\n",
       "      <td>0.004301</td>\n",
       "      <td>-0.002056</td>\n",
       "      <td>-0.012601</td>\n",
       "      <td>0.011188</td>\n",
       "      <td>1.000000</td>\n",
       "      <td>-0.012329</td>\n",
       "      <td>-0.015186</td>\n",
       "      <td>-0.005845</td>\n",
       "    </tr>\n",
       "    <tr>\n",
       "      <th>IntlCalls</th>\n",
       "      <td>0.020661</td>\n",
       "      <td>0.013957</td>\n",
       "      <td>0.008033</td>\n",
       "      <td>0.002541</td>\n",
       "      <td>-0.012353</td>\n",
       "      <td>0.032304</td>\n",
       "      <td>-0.017561</td>\n",
       "      <td>-0.052844</td>\n",
       "      <td>0.017366</td>\n",
       "      <td>0.007618</td>\n",
       "      <td>0.004574</td>\n",
       "      <td>0.008032</td>\n",
       "      <td>0.017434</td>\n",
       "      <td>0.002541</td>\n",
       "      <td>0.000305</td>\n",
       "      <td>-0.012329</td>\n",
       "      <td>1.000000</td>\n",
       "      <td>0.032372</td>\n",
       "      <td>-0.024179</td>\n",
       "    </tr>\n",
       "    <tr>\n",
       "      <th>IntlCharge</th>\n",
       "      <td>0.009546</td>\n",
       "      <td>0.002884</td>\n",
       "      <td>-0.010092</td>\n",
       "      <td>-0.011067</td>\n",
       "      <td>-0.015180</td>\n",
       "      <td>0.999993</td>\n",
       "      <td>-0.009675</td>\n",
       "      <td>0.068259</td>\n",
       "      <td>0.045780</td>\n",
       "      <td>-0.001276</td>\n",
       "      <td>0.021666</td>\n",
       "      <td>-0.010094</td>\n",
       "      <td>0.008674</td>\n",
       "      <td>-0.011074</td>\n",
       "      <td>-0.013630</td>\n",
       "      <td>-0.015186</td>\n",
       "      <td>0.032372</td>\n",
       "      <td>1.000000</td>\n",
       "      <td>-0.018395</td>\n",
       "    </tr>\n",
       "    <tr>\n",
       "      <th>AreaCode</th>\n",
       "      <td>-0.012463</td>\n",
       "      <td>-0.001994</td>\n",
       "      <td>-0.008264</td>\n",
       "      <td>0.003580</td>\n",
       "      <td>-0.005825</td>\n",
       "      <td>-0.018288</td>\n",
       "      <td>0.027572</td>\n",
       "      <td>0.006174</td>\n",
       "      <td>0.048551</td>\n",
       "      <td>-0.000747</td>\n",
       "      <td>-0.009646</td>\n",
       "      <td>-0.008264</td>\n",
       "      <td>-0.011886</td>\n",
       "      <td>0.003607</td>\n",
       "      <td>0.016522</td>\n",
       "      <td>-0.005845</td>\n",
       "      <td>-0.024179</td>\n",
       "      <td>-0.018395</td>\n",
       "      <td>1.000000</td>\n",
       "    </tr>\n",
       "  </tbody>\n",
       "</table>\n",
       "</div>"
      ],
      "text/plain": [
       "               AccountLength  VMailMessage   DayMins   EveMins  NightMins  \\\n",
       "AccountLength       1.000000     -0.004628  0.006216 -0.006757  -0.008955   \n",
       "VMailMessage       -0.004628      1.000000  0.000778  0.017562   0.007681   \n",
       "DayMins             0.006216      0.000778  1.000000  0.007043   0.004323   \n",
       "EveMins            -0.006757      0.017562  0.007043  1.000000  -0.012584   \n",
       "NightMins          -0.008955      0.007681  0.004323 -0.012584   1.000000   \n",
       "IntlMins            0.009514      0.002856 -0.010155 -0.011035  -0.015207   \n",
       "CustServCalls      -0.003796     -0.013263 -0.013423 -0.012985  -0.009288   \n",
       "Churn               0.016541     -0.089728  0.205151  0.092796   0.035493   \n",
       "IntlPlan            0.024735      0.008745  0.049396  0.019100  -0.028905   \n",
       "VMailPlan           0.002918      0.956927 -0.001684  0.021545   0.006079   \n",
       "DayCalls            0.038470     -0.009548  0.006750 -0.021451   0.022938   \n",
       "DayCharge           0.006214      0.000776  1.000000  0.007050   0.004324   \n",
       "EveCalls            0.019260     -0.005864  0.015769 -0.011430  -0.002093   \n",
       "EveCharge          -0.006745      0.017578  0.007029  1.000000  -0.012592   \n",
       "NightCalls         -0.013176      0.007123  0.022972  0.007586   0.011204   \n",
       "NightCharge        -0.008960      0.007663  0.004300 -0.012593   0.999999   \n",
       "IntlCalls           0.020661      0.013957  0.008033  0.002541  -0.012353   \n",
       "IntlCharge          0.009546      0.002884 -0.010092 -0.011067  -0.015180   \n",
       "AreaCode           -0.012463     -0.001994 -0.008264  0.003580  -0.005825   \n",
       "\n",
       "               IntlMins  CustServCalls     Churn  IntlPlan  VMailPlan  \\\n",
       "AccountLength  0.009514      -0.003796  0.016541  0.024735   0.002918   \n",
       "VMailMessage   0.002856      -0.013263 -0.089728  0.008745   0.956927   \n",
       "DayMins       -0.010155      -0.013423  0.205151  0.049396  -0.001684   \n",
       "EveMins       -0.011035      -0.012985  0.092796  0.019100   0.021545   \n",
       "NightMins     -0.015207      -0.009288  0.035493 -0.028905   0.006079   \n",
       "IntlMins       1.000000      -0.009640  0.068239  0.045871  -0.001318   \n",
       "CustServCalls -0.009640       1.000000  0.208750 -0.024522  -0.017824   \n",
       "Churn          0.068239       0.208750  1.000000  0.259852  -0.102148   \n",
       "IntlPlan       0.045871      -0.024522  0.259852  1.000000   0.006006   \n",
       "VMailPlan     -0.001318      -0.017824 -0.102148  0.006006   1.000000   \n",
       "DayCalls       0.021565      -0.018942  0.018459  0.003755  -0.011086   \n",
       "DayCharge     -0.010157      -0.013427  0.205151  0.049398  -0.001686   \n",
       "EveCalls       0.008703       0.002423  0.009233  0.006114  -0.006444   \n",
       "EveCharge     -0.011043      -0.012987  0.092786  0.019106   0.021559   \n",
       "NightCalls    -0.013605      -0.012802  0.006141  0.012451   0.015553   \n",
       "NightCharge   -0.015214      -0.009277  0.035496 -0.028913   0.006064   \n",
       "IntlCalls      0.032304      -0.017561 -0.052844  0.017366   0.007618   \n",
       "IntlCharge     0.999993      -0.009675  0.068259  0.045780  -0.001276   \n",
       "AreaCode      -0.018288       0.027572  0.006174  0.048551  -0.000747   \n",
       "\n",
       "               DayCalls  DayCharge  EveCalls  EveCharge  NightCalls  \\\n",
       "AccountLength  0.038470   0.006214  0.019260  -0.006745   -0.013176   \n",
       "VMailMessage  -0.009548   0.000776 -0.005864   0.017578    0.007123   \n",
       "DayMins        0.006750   1.000000  0.015769   0.007029    0.022972   \n",
       "EveMins       -0.021451   0.007050 -0.011430   1.000000    0.007586   \n",
       "NightMins      0.022938   0.004324 -0.002093  -0.012592    0.011204   \n",
       "IntlMins       0.021565  -0.010157  0.008703  -0.011043   -0.013605   \n",
       "CustServCalls -0.018942  -0.013427  0.002423  -0.012987   -0.012802   \n",
       "Churn          0.018459   0.205151  0.009233   0.092786    0.006141   \n",
       "IntlPlan       0.003755   0.049398  0.006114   0.019106    0.012451   \n",
       "VMailPlan     -0.011086  -0.001686 -0.006444   0.021559    0.015553   \n",
       "DayCalls       1.000000   0.006753  0.006462  -0.021449   -0.019557   \n",
       "DayCharge      0.006753   1.000000  0.015769   0.007036    0.022972   \n",
       "EveCalls       0.006462   0.015769  1.000000  -0.011423    0.007710   \n",
       "EveCharge     -0.021449   0.007036 -0.011423   1.000000    0.007596   \n",
       "NightCalls    -0.019557   0.022972  0.007710   0.007596    1.000000   \n",
       "NightCharge    0.022927   0.004301 -0.002056  -0.012601    0.011188   \n",
       "IntlCalls      0.004574   0.008032  0.017434   0.002541    0.000305   \n",
       "IntlCharge     0.021666  -0.010094  0.008674  -0.011074   -0.013630   \n",
       "AreaCode      -0.009646  -0.008264 -0.011886   0.003607    0.016522   \n",
       "\n",
       "               NightCharge  IntlCalls  IntlCharge  AreaCode  \n",
       "AccountLength    -0.008960   0.020661    0.009546 -0.012463  \n",
       "VMailMessage      0.007663   0.013957    0.002884 -0.001994  \n",
       "DayMins           0.004300   0.008033   -0.010092 -0.008264  \n",
       "EveMins          -0.012593   0.002541   -0.011067  0.003580  \n",
       "NightMins         0.999999  -0.012353   -0.015180 -0.005825  \n",
       "IntlMins         -0.015214   0.032304    0.999993 -0.018288  \n",
       "CustServCalls    -0.009277  -0.017561   -0.009675  0.027572  \n",
       "Churn             0.035496  -0.052844    0.068259  0.006174  \n",
       "IntlPlan         -0.028913   0.017366    0.045780  0.048551  \n",
       "VMailPlan         0.006064   0.007618   -0.001276 -0.000747  \n",
       "DayCalls          0.022927   0.004574    0.021666 -0.009646  \n",
       "DayCharge         0.004301   0.008032   -0.010094 -0.008264  \n",
       "EveCalls         -0.002056   0.017434    0.008674 -0.011886  \n",
       "EveCharge        -0.012601   0.002541   -0.011074  0.003607  \n",
       "NightCalls        0.011188   0.000305   -0.013630  0.016522  \n",
       "NightCharge       1.000000  -0.012329   -0.015186 -0.005845  \n",
       "IntlCalls        -0.012329   1.000000    0.032372 -0.024179  \n",
       "IntlCharge       -0.015186   0.032372    1.000000 -0.018395  \n",
       "AreaCode         -0.005845  -0.024179   -0.018395  1.000000  "
      ]
     },
     "execution_count": 184,
     "metadata": {},
     "output_type": "execute_result"
    }
   ],
   "source": [
    "ch.toPandas().corr('pearson')"
   ]
  },
  {
   "cell_type": "markdown",
   "metadata": {},
   "source": [
    "### Correlation between Predicting Variable and independent variable.\n",
    "\n",
    "Now that we want to predict which customer is going to churn, let’s see what columns might be interesting for our prediction.\n",
    "One way is to find the correlation between \"Churn\" and each of the other columns.\n",
    "This will show us which other columns might predict \"Churn\" the best."
   ]
  },
  {
   "cell_type": "code",
   "execution_count": 190,
   "metadata": {},
   "outputs": [
    {
     "data": {
      "text/plain": [
       "VMailPlan       -0.102148\n",
       "VMailMessage    -0.089728\n",
       "IntlCalls       -0.052844\n",
       "NightCalls       0.006141\n",
       "AreaCode         0.006174\n",
       "EveCalls         0.009233\n",
       "AccountLength    0.016541\n",
       "DayCalls         0.018459\n",
       "NightMins        0.035493\n",
       "NightCharge      0.035496\n",
       "IntlMins         0.068239\n",
       "IntlCharge       0.068259\n",
       "EveCharge        0.092786\n",
       "EveMins          0.092796\n",
       "DayCharge        0.205151\n",
       "DayMins          0.205151\n",
       "CustServCalls    0.208750\n",
       "IntlPlan         0.259852\n",
       "Churn            1.000000\n",
       "Name: Churn, dtype: float64"
      ]
     },
     "execution_count": 190,
     "metadata": {},
     "output_type": "execute_result"
    }
   ],
   "source": [
    "ch.toPandas().corr()[\"Churn\"].sort_values()"
   ]
  },
  {
   "cell_type": "code",
   "execution_count": 186,
   "metadata": {},
   "outputs": [],
   "source": [
    "numeric_feature=[t[0] for t in ch.dtypes if t[1]=='int']"
   ]
  },
  {
   "cell_type": "code",
   "execution_count": 187,
   "metadata": {},
   "outputs": [
    {
     "data": {
      "text/plain": [
       "['AccountLength',\n",
       " 'VMailMessage',\n",
       " 'CustServCalls',\n",
       " 'Churn',\n",
       " 'IntlPlan',\n",
       " 'VMailPlan',\n",
       " 'DayCalls',\n",
       " 'EveCalls',\n",
       " 'NightCalls',\n",
       " 'IntlCalls',\n",
       " 'AreaCode']"
      ]
     },
     "execution_count": 187,
     "metadata": {},
     "output_type": "execute_result"
    }
   ],
   "source": [
    "numeric_feature"
   ]
  },
  {
   "cell_type": "code",
   "execution_count": 196,
   "metadata": {},
   "outputs": [
    {
     "data": {
      "text/plain": [
       "['AccountLength',\n",
       " 'VMailMessage',\n",
       " 'DayMins',\n",
       " 'EveMins',\n",
       " 'NightMins',\n",
       " 'IntlMins',\n",
       " 'CustServCalls',\n",
       " 'Churn',\n",
       " 'IntlPlan',\n",
       " 'VMailPlan',\n",
       " 'DayCalls',\n",
       " 'DayCharge',\n",
       " 'EveCalls',\n",
       " 'EveCharge',\n",
       " 'NightCalls',\n",
       " 'NightCharge',\n",
       " 'IntlCalls',\n",
       " 'IntlCharge',\n",
       " 'State',\n",
       " 'AreaCode',\n",
       " 'Phone']"
      ]
     },
     "execution_count": 196,
     "metadata": {},
     "output_type": "execute_result"
    }
   ],
   "source": [
    "ch.columns"
   ]
  },
  {
   "cell_type": "code",
   "execution_count": null,
   "metadata": {},
   "outputs": [],
   "source": []
  },
  {
   "cell_type": "code",
   "execution_count": 209,
   "metadata": {},
   "outputs": [],
   "source": [
    "ch.createOrReplaceTempView(\"data\")"
   ]
  },
  {
   "cell_type": "code",
   "execution_count": 210,
   "metadata": {},
   "outputs": [],
   "source": [
    "ch_n=spark.sql(\"select State,count(*) as CNT,sum(Churn) as SC,sum(Churn)/count(*) as New_var from data group by State order by 4 desc\")"
   ]
  },
  {
   "cell_type": "code",
   "execution_count": 211,
   "metadata": {},
   "outputs": [
    {
     "name": "stdout",
     "output_type": "stream",
     "text": [
      "+-----+---+---+-------------------+\n",
      "|State|CNT| SC|            New_var|\n",
      "+-----+---+---+-------------------+\n",
      "|   CA| 34|  9| 0.2647058823529412|\n",
      "|   NJ| 68| 18| 0.2647058823529412|\n",
      "|   TX| 72| 18|               0.25|\n",
      "|   MD| 70| 17|0.24285714285714285|\n",
      "|   SC| 60| 14|0.23333333333333334|\n",
      "|   MI| 73| 16| 0.2191780821917808|\n",
      "|   MS| 65| 14| 0.2153846153846154|\n",
      "|   WA| 66| 14|0.21212121212121213|\n",
      "|   NV| 66| 14|0.21212121212121213|\n",
      "|   ME| 62| 13|0.20967741935483872|\n",
      "|   MT| 68| 14|0.20588235294117646|\n",
      "|   AR| 55| 11|                0.2|\n",
      "|   KS| 70| 13|0.18571428571428572|\n",
      "|   NY| 83| 15|0.18072289156626506|\n",
      "|   MN| 84| 15|0.17857142857142858|\n",
      "|   PA| 45|  8|0.17777777777777778|\n",
      "|   MA| 65| 11|0.16923076923076924|\n",
      "|   CT| 74| 12|0.16216216216216217|\n",
      "|   NC| 68| 11|0.16176470588235295|\n",
      "|   NH| 56|  9|0.16071428571428573|\n",
      "+-----+---+---+-------------------+\n",
      "only showing top 20 rows\n",
      "\n"
     ]
    }
   ],
   "source": [
    "ch_n.show()"
   ]
  },
  {
   "cell_type": "code",
   "execution_count": 212,
   "metadata": {},
   "outputs": [],
   "source": [
    "from pyspark.sql.functions import *\n",
    "from pyspark.sql.window import Window\n",
    "\n",
    "ranked =  ch_n.withColumn(\n",
    "  \"rank\", dense_rank().over(Window.partitionBy(\"State\").orderBy(desc(\"New_var\"))))"
   ]
  },
  {
   "cell_type": "code",
   "execution_count": 213,
   "metadata": {},
   "outputs": [],
   "source": [
    "windowSpec = Window.orderBy(\"New_var\")\n",
    "ranked = ch_n.withColumn(\"rank\", row_number().over(windowSpec))"
   ]
  },
  {
   "cell_type": "code",
   "execution_count": 214,
   "metadata": {},
   "outputs": [],
   "source": [
    "ranked=ranked.select(ranked['State'],ranked['rank'])"
   ]
  },
  {
   "cell_type": "code",
   "execution_count": 215,
   "metadata": {},
   "outputs": [
    {
     "name": "stdout",
     "output_type": "stream",
     "text": [
      "+-----+----+\n",
      "|State|rank|\n",
      "+-----+----+\n",
      "|   HI|   1|\n",
      "|   AK|   2|\n",
      "|   AZ|   3|\n",
      "|   VA|   4|\n",
      "|   IA|   5|\n",
      "|   LA|   6|\n",
      "|   NE|   7|\n",
      "|   IL|   8|\n",
      "|   WI|   9|\n",
      "|   RI|  10|\n",
      "|   DC|  11|\n",
      "|   TN|  12|\n",
      "|   WV|  13|\n",
      "|   ND|  14|\n",
      "|   NM|  15|\n",
      "|   AL|  16|\n",
      "|   VT|  17|\n",
      "|   MO|  18|\n",
      "|   WY|  19|\n",
      "|   ID|  20|\n",
      "+-----+----+\n",
      "only showing top 20 rows\n",
      "\n"
     ]
    }
   ],
   "source": [
    "ranked.show()"
   ]
  },
  {
   "cell_type": "code",
   "execution_count": 216,
   "metadata": {},
   "outputs": [
    {
     "name": "stdout",
     "output_type": "stream",
     "text": [
      "+-----+\n",
      "|State|\n",
      "+-----+\n",
      "|   KS|\n",
      "|   OH|\n",
      "|   NJ|\n",
      "|   OH|\n",
      "|   OK|\n",
      "|   AL|\n",
      "|   MA|\n",
      "|   MO|\n",
      "|   LA|\n",
      "|   WV|\n",
      "|   IN|\n",
      "|   RI|\n",
      "|   IA|\n",
      "|   MT|\n",
      "|   IA|\n",
      "|   NY|\n",
      "|   ID|\n",
      "|   VT|\n",
      "|   VA|\n",
      "|   TX|\n",
      "+-----+\n",
      "only showing top 20 rows\n",
      "\n"
     ]
    }
   ],
   "source": [
    "ch.select(ch['State']).show()"
   ]
  },
  {
   "cell_type": "code",
   "execution_count": 240,
   "metadata": {},
   "outputs": [],
   "source": [
    "ch_new=ch.join(ranked,ch.State==ranked.State,\"leftouter\")"
   ]
  },
  {
   "cell_type": "code",
   "execution_count": 241,
   "metadata": {},
   "outputs": [
    {
     "name": "stdout",
     "output_type": "stream",
     "text": [
      "root\n",
      " |-- AccountLength: integer (nullable = true)\n",
      " |-- VMailMessage: integer (nullable = true)\n",
      " |-- DayMins: double (nullable = true)\n",
      " |-- EveMins: double (nullable = true)\n",
      " |-- NightMins: double (nullable = true)\n",
      " |-- IntlMins: double (nullable = true)\n",
      " |-- CustServCalls: integer (nullable = true)\n",
      " |-- Churn: integer (nullable = true)\n",
      " |-- IntlPlan: integer (nullable = true)\n",
      " |-- VMailPlan: integer (nullable = true)\n",
      " |-- DayCalls: integer (nullable = true)\n",
      " |-- DayCharge: double (nullable = true)\n",
      " |-- EveCalls: integer (nullable = true)\n",
      " |-- EveCharge: double (nullable = true)\n",
      " |-- NightCalls: integer (nullable = true)\n",
      " |-- NightCharge: double (nullable = true)\n",
      " |-- IntlCalls: integer (nullable = true)\n",
      " |-- IntlCharge: double (nullable = true)\n",
      " |-- State: string (nullable = true)\n",
      " |-- AreaCode: integer (nullable = true)\n",
      " |-- Phone: string (nullable = true)\n",
      " |-- State: string (nullable = true)\n",
      " |-- rank: integer (nullable = true)\n",
      "\n"
     ]
    }
   ],
   "source": [
    "ch_new.printSchema()"
   ]
  },
  {
   "cell_type": "code",
   "execution_count": 242,
   "metadata": {},
   "outputs": [],
   "source": [
    "ch_new=ch_new.drop('Phone','State')"
   ]
  },
  {
   "cell_type": "code",
   "execution_count": 243,
   "metadata": {},
   "outputs": [
    {
     "name": "stdout",
     "output_type": "stream",
     "text": [
      "root\n",
      " |-- AccountLength: integer (nullable = true)\n",
      " |-- VMailMessage: integer (nullable = true)\n",
      " |-- DayMins: double (nullable = true)\n",
      " |-- EveMins: double (nullable = true)\n",
      " |-- NightMins: double (nullable = true)\n",
      " |-- IntlMins: double (nullable = true)\n",
      " |-- CustServCalls: integer (nullable = true)\n",
      " |-- Churn: integer (nullable = true)\n",
      " |-- IntlPlan: integer (nullable = true)\n",
      " |-- VMailPlan: integer (nullable = true)\n",
      " |-- DayCalls: integer (nullable = true)\n",
      " |-- DayCharge: double (nullable = true)\n",
      " |-- EveCalls: integer (nullable = true)\n",
      " |-- EveCharge: double (nullable = true)\n",
      " |-- NightCalls: integer (nullable = true)\n",
      " |-- NightCharge: double (nullable = true)\n",
      " |-- IntlCalls: integer (nullable = true)\n",
      " |-- IntlCharge: double (nullable = true)\n",
      " |-- AreaCode: integer (nullable = true)\n",
      " |-- rank: integer (nullable = true)\n",
      "\n"
     ]
    }
   ],
   "source": [
    "ch_new.printSchema()"
   ]
  },
  {
   "cell_type": "code",
   "execution_count": 246,
   "metadata": {},
   "outputs": [
    {
     "name": "stdout",
     "output_type": "stream",
     "text": [
      "There are 2279 training examples and 1054 test examples.\n"
     ]
    }
   ],
   "source": [
    "# Split the dataset randomly into 70% for training and 30% for testing. Passing a seed for deterministic behavior\n",
    "train, test = ch_new.randomSplit([0.7, 0.3], seed = 0)\n",
    "print(\"There are %d training examples and %d test examples.\" % (train.count(), test.count()))"
   ]
  },
  {
   "cell_type": "code",
   "execution_count": null,
   "metadata": {},
   "outputs": [],
   "source": [
    "train"
   ]
  },
  {
   "cell_type": "code",
   "execution_count": 270,
   "metadata": {},
   "outputs": [],
   "source": [
    "vector_col = \"Churn_new\"\n",
    "featuresCols = train.columns\n",
    "featuresCols.remove('Churn')\n",
    "assembler = VectorAssembler(inputCols=featuresCols, outputCol=vector_col)\n",
    "\n"
   ]
  },
  {
   "cell_type": "code",
   "execution_count": 269,
   "metadata": {},
   "outputs": [],
   "source": [
    "from pyspark.ml import Pipeline\n",
    "pipeline = Pipeline(stages=[assembler])"
   ]
  },
  {
   "cell_type": "code",
   "execution_count": 271,
   "metadata": {},
   "outputs": [],
   "source": [
    "pipelineModel = pipeline.fit(train)"
   ]
  },
  {
   "cell_type": "code",
   "execution_count": 275,
   "metadata": {},
   "outputs": [],
   "source": [
    "train_new = pipelineModel.transform(train)\n",
    "test_new = pipelineModel.transform(test)"
   ]
  },
  {
   "cell_type": "code",
   "execution_count": 288,
   "metadata": {},
   "outputs": [],
   "source": [
    "train_new=train_new.withColumnRenamed('Churn', 'label')"
   ]
  },
  {
   "cell_type": "code",
   "execution_count": 289,
   "metadata": {},
   "outputs": [],
   "source": [
    "test_new=test_new.withColumnRenamed('Churn', 'label')"
   ]
  },
  {
   "cell_type": "code",
   "execution_count": 290,
   "metadata": {},
   "outputs": [
    {
     "name": "stdout",
     "output_type": "stream",
     "text": [
      "root\n",
      " |-- AccountLength: integer (nullable = true)\n",
      " |-- VMailMessage: integer (nullable = true)\n",
      " |-- DayMins: double (nullable = true)\n",
      " |-- EveMins: double (nullable = true)\n",
      " |-- NightMins: double (nullable = true)\n",
      " |-- IntlMins: double (nullable = true)\n",
      " |-- CustServCalls: integer (nullable = true)\n",
      " |-- label: integer (nullable = true)\n",
      " |-- IntlPlan: integer (nullable = true)\n",
      " |-- VMailPlan: integer (nullable = true)\n",
      " |-- DayCalls: integer (nullable = true)\n",
      " |-- DayCharge: double (nullable = true)\n",
      " |-- EveCalls: integer (nullable = true)\n",
      " |-- EveCharge: double (nullable = true)\n",
      " |-- NightCalls: integer (nullable = true)\n",
      " |-- NightCharge: double (nullable = true)\n",
      " |-- IntlCalls: integer (nullable = true)\n",
      " |-- IntlCharge: double (nullable = true)\n",
      " |-- AreaCode: integer (nullable = true)\n",
      " |-- rank: integer (nullable = true)\n",
      " |-- Churn_new: vector (nullable = true)\n",
      "\n"
     ]
    }
   ],
   "source": [
    "test_new.printSchema()"
   ]
  },
  {
   "cell_type": "markdown",
   "metadata": {},
   "source": [
    "# Building Machine Learning Model\n",
    "\n",
    "Follow project step - 9"
   ]
  },
  {
   "cell_type": "code",
   "execution_count": 291,
   "metadata": {},
   "outputs": [],
   "source": [
    "from pyspark.ml.classification import DecisionTreeClassifier\n",
    "dt = DecisionTreeClassifier(featuresCol = 'Churn_new', labelCol = 'label', maxDepth = 3)\n",
    "dtModel = dt.fit(train_new)\n",
    "predictions = dtModel.transform(train_new)\n"
   ]
  },
  {
   "cell_type": "code",
   "execution_count": 293,
   "metadata": {},
   "outputs": [
    {
     "name": "stdout",
     "output_type": "stream",
     "text": [
      "Test Area Under ROC: 0.2902547441243979\n"
     ]
    }
   ],
   "source": [
    "from pyspark.ml.evaluation import BinaryClassificationEvaluator\n",
    "evaluator = BinaryClassificationEvaluator()\n",
    "print(\"Test Area Under ROC: \" + str(evaluator.evaluate(predictions, {evaluator.metricName: \"areaUnderROC\"})))"
   ]
  },
  {
   "cell_type": "code",
   "execution_count": 294,
   "metadata": {},
   "outputs": [],
   "source": [
    "predictions = dtModel.transform(test_new)"
   ]
  },
  {
   "cell_type": "code",
   "execution_count": 295,
   "metadata": {},
   "outputs": [
    {
     "name": "stdout",
     "output_type": "stream",
     "text": [
      "Test Area Under ROC: 0.2824727238525207\n"
     ]
    }
   ],
   "source": [
    "from pyspark.ml.evaluation import BinaryClassificationEvaluator\n",
    "evaluator = BinaryClassificationEvaluator()\n",
    "print(\"Test Area Under ROC: \" + str(evaluator.evaluate(predictions, {evaluator.metricName: \"areaUnderROC\"})))"
   ]
  },
  {
   "cell_type": "markdown",
   "metadata": {},
   "source": [
    "## Random Forest"
   ]
  },
  {
   "cell_type": "code",
   "execution_count": 298,
   "metadata": {},
   "outputs": [],
   "source": [
    "from pyspark.ml.classification import RandomForestClassifier\n",
    "rf = RandomForestClassifier(featuresCol = 'Churn_new', labelCol = 'label')\n",
    "rfModel = rf.fit(train_new)\n",
    "predictions = rfModel.transform(test_new)"
   ]
  },
  {
   "cell_type": "code",
   "execution_count": 303,
   "metadata": {},
   "outputs": [
    {
     "name": "stdout",
     "output_type": "stream",
     "text": [
      "Test Area Under ROC: 0.9128036654842511\n"
     ]
    }
   ],
   "source": [
    "predictions = rfModel.transform(test_new)\n",
    "from pyspark.ml.evaluation import BinaryClassificationEvaluator\n",
    "evaluator = BinaryClassificationEvaluator()\n",
    "print(\"Test Area Under ROC: \" + str(evaluator.evaluate(predictions, {evaluator.metricName: \"areaUnderROC\"})))"
   ]
  },
  {
   "cell_type": "code",
   "execution_count": 300,
   "metadata": {},
   "outputs": [
    {
     "name": "stdout",
     "output_type": "stream",
     "text": [
      "train Area Under ROC: 0.9405820644619022\n"
     ]
    }
   ],
   "source": [
    "predictions = rfModel.transform(train_new)\n",
    "evaluator = BinaryClassificationEvaluator()\n",
    "print(\"train Area Under ROC: \" + str(evaluator.evaluate(predictions, {evaluator.metricName: \"areaUnderROC\"})))"
   ]
  },
  {
   "cell_type": "code",
   "execution_count": 304,
   "metadata": {},
   "outputs": [],
   "source": [
    "results = predictions.select(['prediction', 'label'])"
   ]
  },
  {
   "cell_type": "code",
   "execution_count": 316,
   "metadata": {},
   "outputs": [],
   "source": [
    "results=results.toPandas()"
   ]
  },
  {
   "cell_type": "markdown",
   "metadata": {},
   "source": [
    "## Precision, Recall and Accuracy Score"
   ]
  },
  {
   "cell_type": "code",
   "execution_count": 318,
   "metadata": {},
   "outputs": [],
   "source": [
    "from sklearn.metrics import precision_score,accuracy_score,recall_score"
   ]
  },
  {
   "cell_type": "code",
   "execution_count": 319,
   "metadata": {},
   "outputs": [
    {
     "data": {
      "text/plain": [
       "0.9666666666666667"
      ]
     },
     "execution_count": 319,
     "metadata": {},
     "output_type": "execute_result"
    }
   ],
   "source": [
    "precision_score(results['label'],results['prediction'])"
   ]
  },
  {
   "cell_type": "code",
   "execution_count": 320,
   "metadata": {},
   "outputs": [
    {
     "data": {
      "text/plain": [
       "0.5178571428571429"
      ]
     },
     "execution_count": 320,
     "metadata": {},
     "output_type": "execute_result"
    }
   ],
   "source": [
    "recall_score(results['label'],results['prediction'])"
   ]
  },
  {
   "cell_type": "code",
   "execution_count": 321,
   "metadata": {},
   "outputs": [
    {
     "data": {
      "text/plain": [
       "0.920303605313093"
      ]
     },
     "execution_count": 321,
     "metadata": {},
     "output_type": "execute_result"
    }
   ],
   "source": [
    "accuracy_score(results['label'],results['prediction'])"
   ]
  },
  {
   "cell_type": "markdown",
   "metadata": {},
   "source": [
    "# Insights and Conclusions\n",
    "\n",
    "Follow step no 10 of Project."
   ]
  },
  {
   "cell_type": "markdown",
   "metadata": {
    "collapsed": true
   },
   "source": [
    "Since only 16% has churn the model has high precision and low recall "
   ]
  }
 ],
 "metadata": {
  "anaconda-cloud": {},
  "kernelspec": {
   "display_name": "Python 3",
   "language": "python",
   "name": "python3"
  },
  "language_info": {
   "codemirror_mode": {
    "name": "ipython",
    "version": 3
   },
   "file_extension": ".py",
   "mimetype": "text/x-python",
   "name": "python",
   "nbconvert_exporter": "python",
   "pygments_lexer": "ipython3",
   "version": "3.7.4"
  }
 },
 "nbformat": 4,
 "nbformat_minor": 1
}
